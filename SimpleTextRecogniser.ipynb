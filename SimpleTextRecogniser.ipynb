{
 "cells": [
  {
   "cell_type": "code",
   "execution_count": 3,
   "metadata": {},
   "outputs": [
    {
     "name": "stdout",
     "output_type": "stream",
     "text": [
      "Collecting package metadata (current_repodata.json): done\n",
      "Solving environment: done\n",
      "\n",
      "\n",
      "==> WARNING: A newer version of conda exists. <==\n",
      "  current version: 4.8.2\n",
      "  latest version: 4.8.3\n",
      "\n",
      "Please update conda by running\n",
      "\n",
      "    $ conda update -n base -c defaults conda\n",
      "\n",
      "\n",
      "\n",
      "## Package Plan ##\n",
      "\n",
      "  environment location: /Users/nimitsharma/opt/anaconda3\n",
      "\n",
      "  added / updated specs:\n",
      "    - pytesseract\n",
      "\n",
      "\n",
      "The following packages will be downloaded:\n",
      "\n",
      "    package                    |            build\n",
      "    ---------------------------|-----------------\n",
      "    conda-4.8.3                |   py37hc8dfbb8_1         3.0 MB  conda-forge\n",
      "    flake8-polyfill-1.0.2      |             py_0           8 KB  conda-forge\n",
      "    flake8-quotes-3.2.0        |     pyh9f0ad1d_0          11 KB  conda-forge\n",
      "    pep8-naming-0.10.0         |     pyh9f0ad1d_0          11 KB  conda-forge\n",
      "    pytesseract-0.3.4          |     pyh9f0ad1d_0          17 KB  conda-forge\n",
      "    python_abi-3.7             |          1_cp37m           4 KB  conda-forge\n",
      "    ------------------------------------------------------------\n",
      "                                           Total:         3.1 MB\n",
      "\n",
      "The following NEW packages will be INSTALLED:\n",
      "\n",
      "  flake8-polyfill    conda-forge/noarch::flake8-polyfill-1.0.2-py_0\n",
      "  flake8-quotes      conda-forge/noarch::flake8-quotes-3.2.0-pyh9f0ad1d_0\n",
      "  pep8-naming        conda-forge/noarch::pep8-naming-0.10.0-pyh9f0ad1d_0\n",
      "  pytesseract        conda-forge/noarch::pytesseract-0.3.4-pyh9f0ad1d_0\n",
      "  python_abi         conda-forge/osx-64::python_abi-3.7-1_cp37m\n",
      "\n",
      "The following packages will be UPDATED:\n",
      "\n",
      "  conda                       pkgs/main::conda-4.8.2-py37_0 --> conda-forge::conda-4.8.3-py37hc8dfbb8_1\n",
      "\n",
      "\n",
      "\n",
      "Downloading and Extracting Packages\n",
      "pytesseract-0.3.4    | 17 KB     | ##################################### | 100% \n",
      "flake8-polyfill-1.0. | 8 KB      | ##################################### | 100% \n",
      "pep8-naming-0.10.0   | 11 KB     | ##################################### | 100% \n",
      "flake8-quotes-3.2.0  | 11 KB     | ##################################### | 100% \n",
      "conda-4.8.3          | 3.0 MB    | ##################################### | 100% \n",
      "python_abi-3.7       | 4 KB      | ##################################### | 100% \n",
      "Preparing transaction: done\n",
      "Verifying transaction: done\n",
      "Executing transaction: done\n",
      "\n",
      "Note: you may need to restart the kernel to use updated packages.\n"
     ]
    }
   ],
   "source": [
    "conda install -c conda-forge pytesseract\n"
   ]
  },
  {
   "cell_type": "code",
   "execution_count": 9,
   "metadata": {},
   "outputs": [],
   "source": [
    "from PIL import Image,ImageEnhance"
   ]
  },
  {
   "cell_type": "code",
   "execution_count": 10,
   "metadata": {},
   "outputs": [],
   "source": [
    "import pytesseract"
   ]
  },
  {
   "cell_type": "code",
   "execution_count": 11,
   "metadata": {},
   "outputs": [],
   "source": [
    "#Now we need to open the image \n",
    "image_recieved = Image.open('java_image.png')"
   ]
  },
  {
   "cell_type": "code",
   "execution_count": 12,
   "metadata": {},
   "outputs": [],
   "source": [
    "#We will use some methods to increase the contrast and sharpness of the image\n",
    "contrast = ImageEnhance.Contrast(image_recieved)\n",
    "sharpness = ImageEnhance.Sharpness(image_recieved)"
   ]
  },
  {
   "cell_type": "code",
   "execution_count": 13,
   "metadata": {},
   "outputs": [],
   "source": [
    "#Now we need to implement the required sharpness and contrast in the image\n",
    "new_image = sharpness.enhance(17)\n",
    "new_image = contrast.enhance(3)"
   ]
  },
  {
   "cell_type": "code",
   "execution_count": 14,
   "metadata": {},
   "outputs": [],
   "source": [
    "#Save the image\n",
    "new_image.save(\"Updated_java_image.png\")"
   ]
  },
  {
   "cell_type": "code",
   "execution_count": 15,
   "metadata": {},
   "outputs": [],
   "source": [
    "#Use the image to string method to get the strings and store it\n",
    "strings_achieved = pytesseract.image_to_string(new_image)"
   ]
  },
  {
   "cell_type": "code",
   "execution_count": 16,
   "metadata": {},
   "outputs": [],
   "source": [
    "with open('result_text.txt',mode = 'w') as file1:\n",
    "    file1.write(strings_achieved)"
   ]
  },
  {
   "cell_type": "code",
   "execution_count": null,
   "metadata": {},
   "outputs": [],
   "source": []
  },
  {
   "cell_type": "code",
   "execution_count": null,
   "metadata": {},
   "outputs": [],
   "source": []
  }
 ],
 "metadata": {
  "kernelspec": {
   "display_name": "Python 3",
   "language": "python",
   "name": "python3"
  },
  "language_info": {
   "codemirror_mode": {
    "name": "ipython",
    "version": 3
   },
   "file_extension": ".py",
   "mimetype": "text/x-python",
   "name": "python",
   "nbconvert_exporter": "python",
   "pygments_lexer": "ipython3",
   "version": "3.7.6"
  }
 },
 "nbformat": 4,
 "nbformat_minor": 4
}
